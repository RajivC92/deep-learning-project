{
 "cells": [
  {
   "cell_type": "code",
   "execution_count": 2,
   "id": "223798bf",
   "metadata": {},
   "outputs": [],
   "source": [
    "from dataclasses import dataclass\n",
    "from pathlib import Path\n",
    "\n",
    "@dataclass(frozen=True)\n",
    "class DataIngestionConfig:\n",
    "    root_dir: Path\n",
    "    source_URL: str\n",
    "    local_data_file: Path\n",
    "    unzip_dir: Path"
   ]
  },
  {
   "cell_type": "code",
   "execution_count": 3,
   "id": "6493b08e",
   "metadata": {},
   "outputs": [],
   "source": [
    "from deep_learning_project.constants import *\n",
    "from deep_learning_project.utils.common import read_yaml, create_directories"
   ]
  },
  {
   "cell_type": "code",
   "execution_count": 18,
   "id": "98b36ac2",
   "metadata": {},
   "outputs": [],
   "source": [
    "class ConfigurationManager:\n",
    "    def __init__(\n",
    "        self,\n",
    "        config_file_path = CONFIG_FILE_PATH,\n",
    "        params_file_path = PARAMS_FILE_PATH):\n",
    "\n",
    "        print(\"Config path:\", config_file_path)\n",
    "        print(\"Params path:\", params_file_path)\n",
    "\n",
    "        self.config = read_yaml(config_file_path)\n",
    "        self.params = read_yaml(params_file_path)\n",
    "\n",
    "        create_directories([self.config.artifacts_root])\n",
    "\n",
    "        print(\"Config loaded:\", self.config)     # Debug print\n",
    "        print(\"Params loaded:\", self.params)     # Debug print\n",
    "\n",
    "\n",
    "    def get_data_ingestion_config(self) -> DataIngestionConfig:\n",
    "        config = self.config.data_ingestion\n",
    "\n",
    "        get_data_ingestion_config = DataIngestionConfig(\n",
    "            root_dir = config.root_dir,\n",
    "            source_URL = config.source_URL,\n",
    "            local_data_file = config.local_data_file,\n",
    "            unzip_dir = config.unzip_dir\n",
    "        )\n",
    "\n",
    "        return get_data_ingestion_config\n",
    "\n",
    "\n",
    "        "
   ]
  },
  {
   "cell_type": "code",
   "execution_count": 5,
   "id": "a31d1ec0",
   "metadata": {},
   "outputs": [],
   "source": [
    "import os\n",
    "import urllib.request as request\n",
    "import zipfile\n",
    "from deep_learning_project import logger\n",
    "from deep_learning_project.utils.common import get_size"
   ]
  },
  {
   "cell_type": "code",
   "execution_count": 21,
   "id": "a5851f1d",
   "metadata": {},
   "outputs": [],
   "source": [
    "class DataIngestion:\n",
    "    def __init__(self, config: DataIngestionConfig):\n",
    "        self.config = config\n",
    "\n",
    "    def download_file(self):\n",
    "         # Ensure parent directory exists before downloading\n",
    "        os.makedirs(os.path.dirname(self.config.local_data_file), exist_ok=True)\n",
    "        if not os.path.exists(self.config.local_data_file):\n",
    "            filename, headers = request.urlretrieve(\n",
    "                url = self.config.source_URL, \n",
    "                filename = self.config.local_data_file)\n",
    "            logger.info(f\"{filename} downloaded with following info: \\n{headers}\")\n",
    "\n",
    "        else:\n",
    "            logger.info(f\"File already exists at {self.config.local_data_file}\")"
   ]
  },
  {
   "cell_type": "code",
   "execution_count": 8,
   "id": "a2dd7df6",
   "metadata": {},
   "outputs": [],
   "source": [
    "def extract_zip_file(self):\n",
    "    \"\"\"\n",
    "    zip_file_path: str\n",
    "    Extracts the zip file into the data directory.\n",
    "    Function returns None\n",
    "    \"\"\"\n",
    "\n",
    "    unzip_path = self.config.unzip_dir\n",
    "    os.makedirs(unzip_path, exist_ok=True)\n",
    "    with zipfile.ZipFile(self.config.local_data_file, 'r') as zip_ref:\n",
    "        zip_ref.extractall(unzip_path)\n",
    "    logger.info(f\"Extracted zip file to: {unzip_path}\")\n"
   ]
  },
  {
   "cell_type": "code",
   "execution_count": 13,
   "id": "b6901c30",
   "metadata": {},
   "outputs": [
    {
     "name": "stdout",
     "output_type": "stream",
     "text": [
      "c:\\DLProj\\deep-learning-project\\research\n",
      "c:\\DLProj\\deep-learning-project\n"
     ]
    }
   ],
   "source": [
    "import os\n",
    "print(os.getcwd())\n",
    "os.chdir(r\"c:\\DLProj\\deep-learning-project\")\n",
    "print(os.getcwd())"
   ]
  },
  {
   "cell_type": "code",
   "execution_count": 16,
   "id": "1ea99721",
   "metadata": {},
   "outputs": [
    {
     "name": "stdout",
     "output_type": "stream",
     "text": [
      "True\n",
      "True\n"
     ]
    }
   ],
   "source": [
    "import os\n",
    "print(os.path.isfile(\"config/config.yaml\"))\n",
    "print(os.path.isfile(\"params.yaml\"))"
   ]
  },
  {
   "cell_type": "code",
   "execution_count": 22,
   "id": "10b6e9ee",
   "metadata": {},
   "outputs": [
    {
     "name": "stdout",
     "output_type": "stream",
     "text": [
      "Config path: config\\config.yaml\n",
      "Params path: params.yaml\n",
      "[2025-08-16 22:33:52,521: INFO: common: yaml file: config\\config.yaml loaded successfully]\n",
      "[2025-08-16 22:33:52,523: INFO: common: yaml file: params.yaml loaded successfully]\n",
      "[2025-08-16 22:33:52,525: INFO: common: created directory at: artifacts]\n",
      "Config loaded: {'artifacts_root': 'artifacts', 'data_ingestion': {'root_dir': 'artifacts/data_ingestion', 'source_URL': 'https://github.com/RajivC92/Branching-tutorial/raw/refs/heads/master/Chicken-fecal-images.zip', 'local_data_file': 'artifacts/data_ingestion/chicken_fecal_images.zip', 'unzip_dir': 'artifacts/data_ingestion'}}\n",
      "Params loaded: {'default': True}\n",
      "[2025-08-16 22:33:55,385: INFO: 2601109170: artifacts/data_ingestion/chicken_fecal_images.zip downloaded with following info: \n",
      "Connection: close\n",
      "Content-Length: 11616915\n",
      "Cache-Control: max-age=300\n",
      "Content-Security-Policy: default-src 'none'; style-src 'unsafe-inline'; sandbox\n",
      "Content-Type: application/zip\n",
      "ETag: \"adf745abc03891fe493c3be264ec012691fe3fa21d861f35a27edbe6d86a76b1\"\n",
      "Strict-Transport-Security: max-age=31536000\n",
      "X-Content-Type-Options: nosniff\n",
      "X-Frame-Options: deny\n",
      "X-XSS-Protection: 1; mode=block\n",
      "X-GitHub-Request-Id: 1BA0:3388F2:B0E2E:188364:68A0B910\n",
      "Accept-Ranges: bytes\n",
      "Date: Sat, 16 Aug 2025 17:03:52 GMT\n",
      "Via: 1.1 varnish\n",
      "X-Served-By: cache-maa10240-MAA\n",
      "X-Cache: HIT\n",
      "X-Cache-Hits: 0\n",
      "X-Timer: S1755363833.799264,VS0,VE1\n",
      "Vary: Authorization,Accept-Encoding\n",
      "Access-Control-Allow-Origin: *\n",
      "Cross-Origin-Resource-Policy: cross-origin\n",
      "X-Fastly-Request-ID: 49a8050c86dcde45476442570debb352fe1df1ad\n",
      "Expires: Sat, 16 Aug 2025 17:08:52 GMT\n",
      "Source-Age: 232\n",
      "\n",
      "]\n"
     ]
    },
    {
     "ename": "AttributeError",
     "evalue": "'DataIngestion' object has no attribute 'extract_zip_file'",
     "output_type": "error",
     "traceback": [
      "\u001b[31m---------------------------------------------------------------------------\u001b[39m",
      "\u001b[31mAttributeError\u001b[39m                            Traceback (most recent call last)",
      "\u001b[36mCell\u001b[39m\u001b[36m \u001b[39m\u001b[32mIn[22]\u001b[39m\u001b[32m, line 9\u001b[39m\n\u001b[32m      6\u001b[39m     data_ingestion.extract_zip_file()\n\u001b[32m      8\u001b[39m \u001b[38;5;28;01mexcept\u001b[39;00m \u001b[38;5;167;01mException\u001b[39;00m \u001b[38;5;28;01mas\u001b[39;00m e:\n\u001b[32m----> \u001b[39m\u001b[32m9\u001b[39m     \u001b[38;5;28;01mraise\u001b[39;00m e\n",
      "\u001b[36mCell\u001b[39m\u001b[36m \u001b[39m\u001b[32mIn[22]\u001b[39m\u001b[32m, line 6\u001b[39m\n\u001b[32m      4\u001b[39m     data_ingestion = DataIngestion(config=data_ingestion_config)\n\u001b[32m      5\u001b[39m     data_ingestion.download_file()\n\u001b[32m----> \u001b[39m\u001b[32m6\u001b[39m     \u001b[43mdata_ingestion\u001b[49m\u001b[43m.\u001b[49m\u001b[43mextract_zip_file\u001b[49m()\n\u001b[32m      8\u001b[39m \u001b[38;5;28;01mexcept\u001b[39;00m \u001b[38;5;167;01mException\u001b[39;00m \u001b[38;5;28;01mas\u001b[39;00m e:\n\u001b[32m      9\u001b[39m     \u001b[38;5;28;01mraise\u001b[39;00m e\n",
      "\u001b[31mAttributeError\u001b[39m: 'DataIngestion' object has no attribute 'extract_zip_file'"
     ]
    }
   ],
   "source": [
    "try:\n",
    "    config = ConfigurationManager()\n",
    "    data_ingestion_config = config.get_data_ingestion_config()\n",
    "    data_ingestion = DataIngestion(config=data_ingestion_config)\n",
    "    data_ingestion.download_file()\n",
    "    data_ingestion.extract_zip_file()\n",
    "\n",
    "except Exception as e:\n",
    "    raise e"
   ]
  }
 ],
 "metadata": {
  "kernelspec": {
   "display_name": ".venv",
   "language": "python",
   "name": "python3"
  },
  "language_info": {
   "codemirror_mode": {
    "name": "ipython",
    "version": 3
   },
   "file_extension": ".py",
   "mimetype": "text/x-python",
   "name": "python",
   "nbconvert_exporter": "python",
   "pygments_lexer": "ipython3",
   "version": "3.13.0"
  }
 },
 "nbformat": 4,
 "nbformat_minor": 5
}
